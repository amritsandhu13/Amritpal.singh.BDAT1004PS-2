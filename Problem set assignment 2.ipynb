{
 "cells": [
  {
   "cell_type": "code",
   "execution_count": 7,
   "id": "8b985ad5",
   "metadata": {},
   "outputs": [
    {
     "data": {
      "text/plain": [
       "8"
      ]
     },
     "execution_count": 7,
     "metadata": {},
     "output_type": "execute_result"
    }
   ],
   "source": [
    "# Question-1\n",
    "\n",
    "\n",
    "def b(a):\n",
    "    return c(a)\n",
    "\n",
    "def c(a):\n",
    "    return a + 2\n",
    "\n",
    "a = 0\n",
    "a = b(a)\n",
    "\n",
    "# Calling the function 'b' three times\n",
    "a = b(a)\n",
    "a = b(a)\n",
    "a = b(a)\n",
    "\n",
    "# Displaying the final value of 'a'\n",
    "a\n",
    "\n",
    "\n"
   ]
  },
  {
   "cell_type": "markdown",
   "id": "f7f47860",
   "metadata": {},
   "source": [
    " {\n",
    "   \"cell_type\": \"code\",\n",
    "   \"execution_count\": 7,\n",
    "   \"id\": \"20abd8ec\",\n",
    "   \"metadata\": {},\n",
    "   \"outputs\": [],\n",
    "   \"source\": [\n",
    "    \"b()\"\n",
    "   ]\n",
    "  },\n",
    "  {\n",
    "   \"cell_type\": \"code\",\n",
    "   \"execution_count\": 8,\n",
    "   \"id\": \"5a74b07e\",\n",
    "   \"metadata\": {},\n",
    "   \"outputs\": [],\n",
    "   \"source\": [\n",
    "    \"b()\"\n",
    "   ]\n",
    "  },"
   ]
  },
  {
   "cell_type": "code",
   "execution_count": 16,
   "id": "f3d7d9e2",
   "metadata": {},
   "outputs": [
    {
     "name": "stdout",
     "output_type": "stream",
     "text": [
      "File midterm.py not found.\n",
      "File idterm.py not found.\n",
      "File not found at the path: C:\\Users\\Hewlett-Packard\\Downloads\\example.txt\n"
     ]
    }
   ],
   "source": [
    "# Question 2\n",
    "\n",
    "def fileLength(filename):\n",
    "    try:\n",
    "        with open(filename, 'r') as infile:\n",
    "            length = 0\n",
    "            for line in infile:\n",
    "                length += len(line)\n",
    "            return length\n",
    "    except FileNotFoundError:\n",
    "        print(f\"File {filename} not found.\")\n",
    "\n",
    "# Test the modified function\n",
    "file_length = fileLength('midterm.py')\n",
    "if file_length is not None:\n",
    "    print(file_length)\n",
    "file_length = fileLength('idterm.py')\n",
    "\n",
    "# Define the file path\n",
    "file_path = \"C:\\\\Users\\\\Hewlett-Packard\\\\Downloads\\\\example.txt\"\n",
    "\n",
    "# Open the file for reading\n",
    "try:\n",
    "    with open(file_path, 'r') as file:\n",
    "        content = file.read()\n",
    "        print(content)\n",
    "except FileNotFoundError:\n",
    "    print(f\"File not found at the path: {file_path}\")\n"
   ]
  },
  {
   "cell_type": "code",
   "execution_count": 11,
   "id": "eb51250e",
   "metadata": {},
   "outputs": [
    {
     "name": "stdout",
     "output_type": "stream",
     "text": [
      "['doll', 'firetruck', 'kitten']\n",
      "I am Kangaroo located at (0, 0)\n",
      "['doll', 'firetruck', 'kitten']\n",
      "I am Kangaroo located at (3, 0)\n"
     ]
    }
   ],
   "source": [
    "# Question 3\n",
    "\n",
    "class Marsupial:\n",
    "    def __init__(self):\n",
    "        self.pouch = []\n",
    "\n",
    "    def put_in_pouch(self, item):\n",
    "        self.pouch.append(item)\n",
    "\n",
    "    def pouch_contents(self):\n",
    "        return self.pouch\n",
    "\n",
    "class Kangaroo(Marsupial):\n",
    "    def __init__(self, x, y):\n",
    "        super().__init__()\n",
    "        self.x = x\n",
    "        self.y = y\n",
    "\n",
    "    def jump(self, dx, dy):\n",
    "        self.x += dx\n",
    "        self.y += dy\n",
    "\n",
    "    def __str__(self):\n",
    "        return f\"I am Kangaroo located at ({self.x}, {self.y})\"\n",
    "\n",
    "# Testing the classes\n",
    "m = Marsupial()\n",
    "m.put_in_pouch('doll')\n",
    "m.put_in_pouch('firetruck')\n",
    "m.put_in_pouch('kitten')\n",
    "\n",
    "print(m.pouch_contents())\n",
    "\n",
    "k = Kangaroo(0, 0)\n",
    "print(k)\n",
    "k.put_in_pouch('doll')\n",
    "k.put_in_pouch('firetruck')\n",
    "k.put_in_pouch('kitten')\n",
    "print(k.pouch_contents())\n",
    "\n",
    "k.jump(1, 0)\n",
    "k.jump(1, 0)\n",
    "k.jump(1, 0)\n",
    "print(k)\n"
   ]
  },
  {
   "cell_type": "code",
   "execution_count": 12,
   "id": "f9d3cf0b",
   "metadata": {},
   "outputs": [
    {
     "name": "stdout",
     "output_type": "stream",
     "text": [
      "10\n",
      "5\n",
      "16\n",
      "8\n",
      "4\n",
      "2\n",
      "1\n"
     ]
    }
   ],
   "source": [
    "# Question 4\n",
    "\n",
    "def collatz(num):\n",
    "    print(num)\n",
    "    if num != 1:\n",
    "        if num % 2 == 0:\n",
    "            num = num // 2\n",
    "            collatz(num)\n",
    "        else:\n",
    "            num = 3 * num + 1\n",
    "            collatz(num)\n",
    "    else:\n",
    "        exit()\n",
    "\n",
    "collatz(10)\n"
   ]
  },
  {
   "cell_type": "code",
   "execution_count": 1,
   "id": "5f1986ef",
   "metadata": {},
   "outputs": [
    {
     "name": "stdout",
     "output_type": "stream",
     "text": [
      "1001\n"
     ]
    }
   ],
   "source": [
    "Question 5\n",
    "\n",
    "def binary(num):\n",
    "    print(f\"{num:b}\")\n",
    "\n",
    "binary(9)\n",
    "\n",
    "# Uncomment the following lines to print binary representations of more numbers\n",
    "# binary(0)\n",
    "# binary(1)\n",
    "# binary(3)\n",
    "# binary(9)\n"
   ]
  },
  {
   "cell_type": "code",
   "execution_count": 2,
   "id": "48cc0c8b",
   "metadata": {},
   "outputs": [
    {
     "ename": "FileNotFoundError",
     "evalue": "[Errno 2] No such file or directory: 'w3c.html'",
     "output_type": "error",
     "traceback": [
      "\u001b[1;31m---------------------------------------------------------------------------\u001b[0m",
      "\u001b[1;31mFileNotFoundError\u001b[0m                         Traceback (most recent call last)",
      "Cell \u001b[1;32mIn[2], line 23\u001b[0m\n\u001b[0;32m     20\u001b[0m         \u001b[38;5;28;01mif\u001b[39;00m tag \u001b[38;5;129;01min\u001b[39;00m (\u001b[38;5;124m\"\u001b[39m\u001b[38;5;124mh1\u001b[39m\u001b[38;5;124m\"\u001b[39m, \u001b[38;5;124m\"\u001b[39m\u001b[38;5;124mh2\u001b[39m\u001b[38;5;124m\"\u001b[39m, \u001b[38;5;124m\"\u001b[39m\u001b[38;5;124mh3\u001b[39m\u001b[38;5;124m\"\u001b[39m, \u001b[38;5;124m\"\u001b[39m\u001b[38;5;124mh4\u001b[39m\u001b[38;5;124m\"\u001b[39m, \u001b[38;5;124m\"\u001b[39m\u001b[38;5;124mh5\u001b[39m\u001b[38;5;124m\"\u001b[39m, \u001b[38;5;124m\"\u001b[39m\u001b[38;5;124mh6\u001b[39m\u001b[38;5;124m\"\u001b[39m):\n\u001b[0;32m     21\u001b[0m             \u001b[38;5;28mself\u001b[39m\u001b[38;5;241m.\u001b[39minHeading \u001b[38;5;241m=\u001b[39m \u001b[38;5;28;01mFalse\u001b[39;00m\n\u001b[1;32m---> 23\u001b[0m \u001b[38;5;28;01mwith\u001b[39;00m \u001b[38;5;28mopen\u001b[39m(\u001b[38;5;124m'\u001b[39m\u001b[38;5;124mw3c.html\u001b[39m\u001b[38;5;124m'\u001b[39m) \u001b[38;5;28;01mas\u001b[39;00m infile:\n\u001b[0;32m     24\u001b[0m     content \u001b[38;5;241m=\u001b[39m infile\u001b[38;5;241m.\u001b[39mread()\n\u001b[0;32m     26\u001b[0m hp \u001b[38;5;241m=\u001b[39m HeadingParser()\n",
      "File \u001b[1;32m~\\anaconda3\\Lib\\site-packages\\IPython\\core\\interactiveshell.py:284\u001b[0m, in \u001b[0;36m_modified_open\u001b[1;34m(file, *args, **kwargs)\u001b[0m\n\u001b[0;32m    277\u001b[0m \u001b[38;5;28;01mif\u001b[39;00m file \u001b[38;5;129;01min\u001b[39;00m {\u001b[38;5;241m0\u001b[39m, \u001b[38;5;241m1\u001b[39m, \u001b[38;5;241m2\u001b[39m}:\n\u001b[0;32m    278\u001b[0m     \u001b[38;5;28;01mraise\u001b[39;00m \u001b[38;5;167;01mValueError\u001b[39;00m(\n\u001b[0;32m    279\u001b[0m         \u001b[38;5;124mf\u001b[39m\u001b[38;5;124m\"\u001b[39m\u001b[38;5;124mIPython won\u001b[39m\u001b[38;5;124m'\u001b[39m\u001b[38;5;124mt let you open fd=\u001b[39m\u001b[38;5;132;01m{\u001b[39;00mfile\u001b[38;5;132;01m}\u001b[39;00m\u001b[38;5;124m by default \u001b[39m\u001b[38;5;124m\"\u001b[39m\n\u001b[0;32m    280\u001b[0m         \u001b[38;5;124m\"\u001b[39m\u001b[38;5;124mas it is likely to crash IPython. If you know what you are doing, \u001b[39m\u001b[38;5;124m\"\u001b[39m\n\u001b[0;32m    281\u001b[0m         \u001b[38;5;124m\"\u001b[39m\u001b[38;5;124myou can use builtins\u001b[39m\u001b[38;5;124m'\u001b[39m\u001b[38;5;124m open.\u001b[39m\u001b[38;5;124m\"\u001b[39m\n\u001b[0;32m    282\u001b[0m     )\n\u001b[1;32m--> 284\u001b[0m \u001b[38;5;28;01mreturn\u001b[39;00m io_open(file, \u001b[38;5;241m*\u001b[39margs, \u001b[38;5;241m*\u001b[39m\u001b[38;5;241m*\u001b[39mkwargs)\n",
      "\u001b[1;31mFileNotFoundError\u001b[0m: [Errno 2] No such file or directory: 'w3c.html'"
     ]
    }
   ],
   "source": [
    "# Question 6\n",
    "\n",
    "from html.parser import HTMLParser\n",
    "\n",
    "class HeadingParser(HTMLParser):\n",
    "    def __init__(self):\n",
    "        super().__init__()\n",
    "        self.inHeading = False\n",
    "        self.count = -1\n",
    "\n",
    "    def handle_starttag(self, tag, attrs):\n",
    "        if tag in (\"h1\", \"h2\", \"h3\", \"h4\", \"h5\", \"h6\"):\n",
    "            self.inHeading = True\n",
    "            self.count += 1\n",
    "\n",
    "    def handle_data(self, data):\n",
    "        if self.inHeading:\n",
    "            if data.strip():\n",
    "                print(\" \" * self.count + data.strip())\n",
    "\n",
    "    def handle_endtag(self, tag):\n",
    "        if tag in (\"h1\", \"h2\", \"h3\", \"h4\", \"h5\", \"h6\"):\n",
    "            self.inHeading = False\n",
    "\n",
    "with open('w3c.html') as infile:\n",
    "    content = infile.read()\n",
    "\n",
    "hp = HeadingParser()\n",
    "hp.feed(content)\n"
   ]
  },
  {
   "cell_type": "code",
   "execution_count": 5,
   "id": "87d7da52",
   "metadata": {},
   "outputs": [
    {
     "name": "stdout",
     "output_type": "stream",
     "text": [
      "http://reed.cs.depaul.edu/lperkovic/csc242/test1.html\n"
     ]
    }
   ],
   "source": [
    "# Question 7\n",
    "\n",
    "import requests\n",
    "from bs4 import BeautifulSoup\n",
    "\n",
    "def webdir(url, depth, indent=0):\n",
    "    if depth < 0:\n",
    "        return\n",
    "    \n",
    "    try:\n",
    "        response = requests.get(url)\n",
    "        soup = BeautifulSoup(response.text, 'html.parser')\n",
    "        \n",
    "        print(' ' * indent + url)\n",
    "        \n",
    "        if depth > 0:\n",
    "            for link in soup.find_all('a', href=True):\n",
    "                new_url = link['href']\n",
    "                if not new_url.startswith('http'):\n",
    "                    new_url = url + new_url\n",
    "                webdir(new_url, depth - 1, indent + 1)\n",
    "    except Exception as e:\n",
    "        print(' ' * indent + f\"Error: {e} ({url})\")\n",
    "\n",
    "# Example usage\n",
    "webdir('http://reed.cs.depaul.edu/lperkovic/csc242/test1.html', 2, 0)\n"
   ]
  },
  {
   "cell_type": "code",
   "execution_count": null,
   "id": "88e3e998",
   "metadata": {},
   "outputs": [],
   "source": [
    "# Question 8\n",
    "\n",
    "# a) All the temperature data.\n",
    "SELECT Temperature FROM table\n",
    "\n",
    "# b) All the cities, but without repetition.\n",
    "SELECT DITINCT City FROM table\n",
    "\n",
    "# c) All the records for India.\n",
    "SELECT * FROM table WHERE Country = 'India\n",
    "\n",
    "# d) All the Fall records.\n",
    "SELECT * DROM table WHERE Season= 'Fall'\n",
    "\n",
    "# e) The city, country, and season for which the average rainfall is between 200and 400 millimeters.\n",
    "SELECT city, country, season FROM table GROUP BY city, country, season HAVING AVG(rainfall) BETWEEN 200 AND 400\n",
    "\n",
    "# f) The city and country for which the average Fall temperature is above 20degrees, in increasing temperature order.\n",
    "SELECT city, country FROM table WHERE season='Fall' GROUP BY city, country HAVING AVG(Temperature)>20 ORDER BY\n",
    "AVG(Temperature)DESC\n",
    "\n",
    "# g) The total annual rainfall for Cairo.\n",
    "SELECT SUM(Rainfall) as Total_Rainfall FROM table WHERE city='Cairo'\n",
    "\n",
    "\n",
    "\n"
   ]
  },
  {
   "cell_type": "code",
   "execution_count": 11,
   "id": "3747f952",
   "metadata": {},
   "outputs": [
    {
     "name": "stdout",
     "output_type": "stream",
     "text": [
      "['THE', 'QUICK', 'BROWN', 'FOX', 'JUMPS', 'OVER', 'THE', 'LAZY', 'DOG']\n",
      "['the', 'quick', 'brown', 'fox', 'jumps', 'over', 'the', 'lazy', 'dog']\n",
      "[3, 5, 5, 3, 5, 4, 3, 4, 3]\n",
      "[['THE', 'the', 3], ['QUICK', 'quick', 5], ['BROWN', 'brown', 5], ['FOX', 'fox', 3], ['JUMPS', 'jumps', 5], ['OVER', 'over', 4], ['THE', 'the', 3], ['LAZY', 'lazy', 4], ['DOG', 'dog', 3]]\n",
      "['the', 'quick', 'brown', 'fox', 'jumps', 'over', 'the', 'lazy', 'dog']\n"
     ]
    }
   ],
   "source": [
    "# Question-9\n",
    "\n",
    "# a)\n",
    "def cap(lis):\n",
    "    if len(lis) != 0:\n",
    "        return [str(i).upper() for i in lis]\n",
    "    return -1\n",
    "\n",
    "# b)\n",
    "def small(lis):\n",
    "    if len(lis) != 0:\n",
    "        return [str(i).lower() for i in lis]\n",
    "    return -1\n",
    "\n",
    "# c)\n",
    "def length(lis):\n",
    "    if len(lis) != 0:\n",
    "        return [len(i) for i in lis]\n",
    "    return -1\n",
    "\n",
    "# d)\n",
    "def all_in_one(lis):\n",
    "    if len(lis) != 0:\n",
    "        return [[str(i).upper(), str(i).lower(), len(i)] for i in lis]\n",
    "    return -1\n",
    "\n",
    "# e)\n",
    "def list_of_words(lis):\n",
    "    if len(lis) != 0:\n",
    "        return [str(i).lower() for i in lis]\n",
    "    return -1\n",
    "\n",
    "words = ['The', 'quick', 'brown', 'fox', 'jumps', 'over',\n",
    "         'the', 'lazy', 'dog']\n",
    "\n",
    "print(cap(words))\n",
    "print(small(words))\n",
    "print(length(words))\n",
    "print(all_in_one(words))\n",
    "print(list_of_words(words))\n"
   ]
  },
  {
   "cell_type": "code",
   "execution_count": null,
   "id": "a3c0516e",
   "metadata": {},
   "outputs": [],
   "source": []
  }
 ],
 "metadata": {
  "kernelspec": {
   "display_name": "Python 3 (ipykernel)",
   "language": "python",
   "name": "python3"
  },
  "language_info": {
   "codemirror_mode": {
    "name": "ipython",
    "version": 3
   },
   "file_extension": ".py",
   "mimetype": "text/x-python",
   "name": "python",
   "nbconvert_exporter": "python",
   "pygments_lexer": "ipython3",
   "version": "3.11.4"
  }
 },
 "nbformat": 4,
 "nbformat_minor": 5
}
